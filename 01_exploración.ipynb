{
  "nbformat": 4,
  "nbformat_minor": 0,
  "metadata": {
    "colab": {
      "provenance": [],
      "authorship_tag": "ABX9TyMdGBNZmR0vabRsHQWBudTk",
      "include_colab_link": true
    },
    "kernelspec": {
      "name": "python3",
      "display_name": "Python 3"
    },
    "language_info": {
      "name": "python"
    }
  },
  "cells": [
    {
      "cell_type": "markdown",
      "metadata": {
        "id": "view-in-github",
        "colab_type": "text"
      },
      "source": [
        "<a href=\"https://colab.research.google.com/github/Alisser2001/kaggle-solution/blob/main/01_exploraci%C3%B3n.ipynb\" target=\"_parent\"><img src=\"https://colab.research.google.com/assets/colab-badge.svg\" alt=\"Open In Colab\"/></a>"
      ]
    },
    {
      "cell_type": "code",
      "execution_count": 8,
      "metadata": {
        "colab": {
          "base_uri": "https://localhost:8080/"
        },
        "id": "zOxjv8OWlHHi",
        "outputId": "0bcf4a2c-0185-4e9c-98e4-b5757bfce824"
      },
      "outputs": [
        {
          "output_type": "stream",
          "name": "stdout",
          "text": [
            "udea-ai4eng-20242.zip: Skipping, found more recently modified local copy (use --force to force download)\n"
          ]
        }
      ],
      "source": [
        "import os\n",
        "os.environ['KAGGLE_CONFIG_DIR'] = '.'\n",
        "!kaggle competitions download -c udea-ai4eng-20242\n",
        "!chmod 600 ./kaggle.json"
      ]
    },
    {
      "cell_type": "code",
      "source": [
        "!unzip udea-ai4eng-20242.zip"
      ],
      "metadata": {
        "colab": {
          "base_uri": "https://localhost:8080/"
        },
        "id": "fitm8BGImi7A",
        "outputId": "bcbf7bfb-5521-46f5-a38d-ced512820a46"
      },
      "execution_count": 7,
      "outputs": [
        {
          "output_type": "stream",
          "name": "stdout",
          "text": [
            "Archive:  udea-ai4eng-20242.zip\n",
            "  inflating: submission_example.csv  \n",
            "  inflating: test.csv                \n",
            "  inflating: train.csv               \n"
          ]
        }
      ]
    },
    {
      "cell_type": "code",
      "source": [
        "import pandas as pd\n",
        "\n",
        "file_path = os.path.join('train.csv')\n",
        "df = pd.read_csv(file_path)"
      ],
      "metadata": {
        "id": "1XG0Czm6lzpJ"
      },
      "execution_count": 24,
      "outputs": []
    },
    {
      "cell_type": "code",
      "source": [
        "df.columns = ['ID', 'Periodo', 'Programa_Academico', 'Departamento', 'Valor_Matricula',\n",
        "              'Horas_Trabajo_Semanal', 'Estrato_Vivienda', 'Tiene_Internet',\n",
        "              'Educacion_Padre', 'Educacion_Madre', 'Pago_Matricula_Propio',\n",
        "              'Rendimiento_Global']\n",
        "\n",
        "total_datos = len(df)\n",
        "print(f\"\\nCantidad total de datos: {total_datos}\")\n",
        "\n",
        "print(\"\\n\\nConteo de valores no nulos por columna:\\n\")\n",
        "print(df.count())\n",
        "\n",
        "print(\"\\n\\nPorcentaje de valores faltantes por columna:\\n\")\n",
        "missing_percentage = df.isnull().mean() * 100\n",
        "print(missing_percentage)\n",
        "\n",
        "programa_academico = df['Programa_Academico'].value_counts()\n",
        "print(\"\\n\\nNúmero de estudiantes por programa académico:\\n\")\n",
        "print(programa_academico)\n",
        "\n",
        "departamento = df['Departamento'].value_counts()\n",
        "print(\"\\n\\nNúmero de estudiantes por departamento:\\n\")\n",
        "print(departamento)\n",
        "\n",
        "estrato_vivienda = df['Estrato_Vivienda'].value_counts()\n",
        "print(\"\\n\\nDistribución del estrato de vivienda:\\n\")\n",
        "print(estrato_vivienda)"
      ],
      "metadata": {
        "colab": {
          "base_uri": "https://localhost:8080/"
        },
        "id": "H_Pjlj5_oFv9",
        "outputId": "f5ab271b-1875-4c5d-99c6-13d4c5043798"
      },
      "execution_count": 25,
      "outputs": [
        {
          "output_type": "stream",
          "name": "stdout",
          "text": [
            "\n",
            "Cantidad total de datos: 692500\n",
            "\n",
            "\n",
            "Conteo de valores no nulos por columna:\n",
            "\n",
            "ID                       692500\n",
            "Periodo                  692500\n",
            "Programa_Academico       692500\n",
            "Departamento             692500\n",
            "Valor_Matricula          686213\n",
            "Horas_Trabajo_Semanal    661643\n",
            "Estrato_Vivienda         660363\n",
            "Tiene_Internet           665871\n",
            "Educacion_Padre          669322\n",
            "Educacion_Madre          668836\n",
            "Pago_Matricula_Propio    686002\n",
            "Rendimiento_Global       692500\n",
            "dtype: int64\n",
            "\n",
            "\n",
            "Porcentaje de valores faltantes por columna:\n",
            "\n",
            "ID                       0.000000\n",
            "Periodo                  0.000000\n",
            "Programa_Academico       0.000000\n",
            "Departamento             0.000000\n",
            "Valor_Matricula          0.907870\n",
            "Horas_Trabajo_Semanal    4.455884\n",
            "Estrato_Vivienda         4.640722\n",
            "Tiene_Internet           3.845343\n",
            "Educacion_Padre          3.347004\n",
            "Educacion_Madre          3.417184\n",
            "Pago_Matricula_Propio    0.938339\n",
            "Rendimiento_Global       0.000000\n",
            "dtype: float64\n",
            "\n",
            "\n",
            "Número de estudiantes por programa académico:\n",
            "\n",
            "Programa_Academico\n",
            "DERECHO                                                   53244\n",
            "ADMINISTRACION DE EMPRESAS                                51902\n",
            "CONTADURIA PUBLICA                                        39664\n",
            "PSICOLOGIA                                                31932\n",
            "INGENIERIA INDUSTRIAL                                     28481\n",
            "                                                          ...  \n",
            "LICENCIATURA EN ESPAÑOL Y FILOLOGÍA                           1\n",
            "ADMINISTRACION EN NEGOCIOS INTERNACIONALES                    1\n",
            "ADMINISTRACION DE COMERCIO EXTERIOR                           1\n",
            "LICENCIATURA EN EDUCACI¿N F¿SICA RECREACI¿N Y DEPORTES        1\n",
            "PROFESIONAL EN INVESTIGACIÓN CRIMINAL                         1\n",
            "Name: count, Length: 948, dtype: int64\n",
            "\n",
            "\n",
            "Número de estudiantes por departamento:\n",
            "\n",
            "Departamento\n",
            "BOGOTÁ             282159\n",
            "ANTIOQUIA           83607\n",
            "VALLE               44588\n",
            "ATLANTICO           41020\n",
            "SANTANDER           28828\n",
            "NORTE SANTANDER     22588\n",
            "BOLIVAR             20629\n",
            "BOYACA              14048\n",
            "CUNDINAMARCA        14018\n",
            "NARIÑO              13454\n",
            "RISARALDA           12679\n",
            "CORDOBA             12188\n",
            "TOLIMA              11921\n",
            "CALDAS              11640\n",
            "CAUCA               11471\n",
            "HUILA                9995\n",
            "MAGDALENA            9512\n",
            "SUCRE                8674\n",
            "CESAR                8279\n",
            "QUINDIO              8229\n",
            "META                 7910\n",
            "LA GUAJIRA           4778\n",
            "CHOCO                4289\n",
            "CAQUETA              2659\n",
            "CASANARE             1852\n",
            "PUTUMAYO              795\n",
            "ARAUCA                589\n",
            "AMAZONAS               40\n",
            "GUAVIARE               37\n",
            "VAUPES                 14\n",
            "SAN ANDRES             10\n",
            "Name: count, dtype: int64\n",
            "\n",
            "\n",
            "Distribución del estrato de vivienda:\n",
            "\n",
            "Estrato_Vivienda\n",
            "Estrato 2      232671\n",
            "Estrato 3      210685\n",
            "Estrato 1      111991\n",
            "Estrato 4       65514\n",
            "Estrato 5       23608\n",
            "Estrato 6       12605\n",
            "Sin Estrato      3289\n",
            "Name: count, dtype: int64\n"
          ]
        }
      ]
    }
  ]
}